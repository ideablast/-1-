{
  "nbformat": 4,
  "nbformat_minor": 0,
  "metadata": {
    "colab": {
      "name": "task4_Duki.ipynb",
      "provenance": [],
      "collapsed_sections": [],
      "include_colab_link": true
    },
    "kernelspec": {
      "name": "python3",
      "display_name": "Python 3"
    }
  },
  "cells": [
    {
      "cell_type": "markdown",
      "metadata": {
        "id": "view-in-github",
        "colab_type": "text"
      },
      "source": [
        "<a href=\"https://colab.research.google.com/github/ideablast/AI_Pre_Course/blob/master/task4_Duki.ipynb\" target=\"_parent\"><img src=\"https://colab.research.google.com/assets/colab-badge.svg\" alt=\"Open In Colab\"/></a>"
      ]
    },
    {
      "cell_type": "markdown",
      "metadata": {
        "id": "wxkL6PjwsI6L",
        "colab_type": "text"
      },
      "source": [
        "# 4주차 과제\n",
        "- 용어 정리\n",
        "- 딥러닝 강의 클론 코딩\n",
        "- 딥러닝 순전파 & 역전파 계산"
      ]
    },
    {
      "cell_type": "markdown",
      "metadata": {
        "id": "ixEtDe6_uGgI",
        "colab_type": "text"
      },
      "source": [
        "## 1. 용어 정리\n",
        "\n",
        "다음 제시된 단어의 정의(설명)를 정리하여 작성 하세요.\n",
        "\n",
        "* 2문장 이상 작성 해 주세요. \n",
        "* 주제(단어)와 크게 벗어나지만 않는다면 정답처리 됩니다.\n",
        "* 강의 뿐 아니라 기타 레퍼런스를 참고하여 작성하셔도 됩니다. (기타 레퍼런스를 참고하신 경우, 해당 레퍼런스를 정리하여 하단에 작성해 주세요.)\n"
      ]
    },
    {
      "cell_type": "markdown",
      "metadata": {
        "id": "0lfwat8eurKZ",
        "colab_type": "text"
      },
      "source": [
        "__(예시)__\n",
        "### 심층 신경망\n",
        ": 입력층과 출력층 사이에 여러 개의 은닉층들로 이뤄진 인공신경망이다. 심층 신경망은 일반적으로 인공신경망과 마찬가지로 복잡한 비선형 관계들을 모델링 할 수 있다. 신층신경망의 목적은 분류 및 수치예측을 하기 위함이고 이미지 트레이닝이나 문자인식과 같은 분야에서 매우 유용하게 쓰이고 있다."
      ]
    },
    {
      "cell_type": "markdown",
      "metadata": {
        "id": "Y8YJNKG_v65A",
        "colab_type": "text"
      },
      "source": [
        "### MCP 뉴런\n",
        ":1943년 워랜 맥컬록과 월터 피츠는 처음으로 간소화된 뇌의 뉴런 개념을 발표 했다. 이것이 바로 맥컬록-피츠 뉴런(MCP뉴런)이다. 뉴런은 뇌의 신경 세포와 서로 연결되어있으며 화학적, 전기적 신호를 처리하고 전달하는데 관여한다. 맥컬록과 피츠는 이러한 신경세포를 이진 출력을 내는 간단한 논리 회로로 표현했으며, 이 MCP 뉴런은 1957년 프랭크 로젠 블렛에 의해 발표되는 퍼셉트론 학습 개념의 기반이된다.\n",
        "\n",
        "### 퍼셉트론\n",
        ":퍼셉트론 학습 개념은 MCP 뉴런 모델을 기반으로 만들어진 학습 개념으로 프랭크 로젠 블렛에 의해 제안된다. 퍼셉트론 알고리즘에서는 자동으로 최적의 가중치를 학습한다. 여기서 가중치는 뉴런의 출력 신호를 낼지 말지를 결정할때 입력 특성에 곱해주는 계수이다. 퍼셉트론을 간단하게 표현하면 다수의 입력을 받아서 계산하고 출력을 반환하는 구조로 나타낼 수있다. \n",
        "이 간단한 구조가 여러개 모이면 신경망이 되는 것이다. 초기에 제안되었던 퍼셉트론 모델로는 AND와 OR 문제만 해결 할 수있고 XOR 문제는 해결할 수 없었다. 이후 1986년에 발표된 저서 'Parallel distributed processing'에서 은닉층을 활용하여 선형 분류 판별선을 여러개 그리게 되면 XOR문제를 해결 할 수 있다고 하였다. 즉 다층 퍼셉트론을 구성하면 XOR문제를 해결 할 수 있다는 의미이고 이는 훗날 딥러닝의 뿌리가 된다.\n",
        "\n",
        "### 역전파\n",
        ":\n",
        "역전파는 이름에서도 알 수 있듯이 뉴런의 가중치를 효율적으로 조정하기 위하여, 거꾸로 무엇인가를 전파하는 방식이다.\n",
        "다시 말해서 출력값과 지도 데이터 사이에 생기는 '오차'를 이용해 출력층에서 입력층 쪽으로 가중치를 조정하는 방법이다.\n",
        "역전파는 달리 말하면 경사 하강법을 사용하는 것이기도 하다. 경사 하강법에서는 이오차를 손실 함수로 표현하는데 이 손실 함수가 최솟값일 때의 가중치로 입력값 각각이 가지는 가중치를 조정해 나간다.\n",
        "최솟값 구할때 기울기가 0인 지점을 찾기 위해 미분이 사용된다. 여기서 중요한 것은 Local minimum을 Global minimum으로 착각해서는 안된다는 것이다. 또한 복잡한 미분은 간단한 편미분의 곱으로 계산이 가능하다. \n",
        "역전파 기법은 기울기 소멸 문제를 가지고 있는다. 이는 은닉 계층의 수가 늘어날 수록 학습이 잘 이루어지지 않게 되는 문제이다. 미분이 반복될 수록 그 값이 점점 작아지게 되어 결국에는 가중치 조절이 이루어지지 않게 되는 것이다. 이를 해결하기 위해 ReLU라는 활성화 함수를 사용하면 된다.\n",
        "\n",
        "### 강화학습\n",
        ":강화학습은 환경과 에이전트 상호작용에서 보상이라는 기준을 통해 에이전트의 행동을 학습 시켜 나가는 방식이다\n",
        "강화학습은 쉽게 말해서 보상을 최대화하는 의사 결정 전략이고, 순차적인 행동들을 알아나가는 방법이다.\n",
        "강화학습에 등장하는 중요한 개념으로 감가율이 있는데 이를 통해 탐험과 이용의 비율이 정해진다. 탐험이란 무작위로 움직여 미지의 보상을 찾는 것이다. 이용이란 이전 탐험을 통해 얻어진 보상중 탐욕 알고리즘에 의해 가장 높은 보상을 고르는 것이다. 이 두가지 개념이 중요한 이유는 강화 학습 알고리즘의 성능과 직접적으로 연관이 있기 떄문이다. 간단히 말해서 보상이 최대로 되게 하려면 학습 시키는 동안 계속 탐험만 시키면 된다. 하지만 이럴경우 문제가 되는 것은  모든 선택지를 확인해 봐야하기 때문에 시간이 너무 오래걸리게된다. 그렇기 때문에 활용과 탐험 사이에서 균형을 잡는것이 중요하다.\n",
        "\n",
        "\n",
        "### 과적합\n",
        ":overfitting, 즉 과하게 잘 맞는다는 것이다. 이것의 문제점은 해당 학습 데이터 셋에는 잘 맞아 떨어지는데 학습 모델이 과하게 그 데이터 셋에 맞춰져서 우리가 알고싶은 다른 데이터 셋은 잘 예측하지 못하는 상황이다. 과적합을 해결하기 위해서는 은닉층에서 뉴런을 임의적으로 배제하는 드롭아웃 방식과 데이터셋을 여러개로 나누어 학습 시킨뒤 이를 모두 합쳐서 결과를 예측하는 앙상블 기법, 그리고 가장 원초적으로는 데이터 셋을 늘리는 방법, feature를 늘리는 방법, 마지막으로 costfunction을 정규화하는 방법이 있다\n",
        "\n",
        "### 차원의 저주\n",
        ": 고정된 크기의 훈련 데이터셋 차원이 늘어남에 따라 특성 공간이 점점 희소해지는 현상, 간단히 말해서 변수가 늘어나 차원이 커지면서 발생하는 문제를 차원의 저주라고 한다. 변수가 늘어나면 분석에 요구되는 데이터의 건수도 증가한다. 만약 데이터의 건수가 부족하게 되면 해당 데이터 셋에만 맞는 과적합이 발생할 수 있기 때문이다.\n",
        "이를 해결하기 위해서는 차원을 축소하면 된다. 차원 축소에는 1)Feature Selection 2)Feature Extraction 이 있다.\n"
      ]
    },
    {
      "cell_type": "markdown",
      "metadata": {
        "id": "B-xL3-dqRwOM",
        "colab_type": "text"
      },
      "source": [
        "###Reference\n",
        "#####과적합 해결법([드롭아웃, 앙상블](https://bluejake.tistory.com/16),[ 정규화](https://blog.naver.com/complusblog/221243306163))\n",
        "\n",
        "#####[차원의 저주](https://kkokkilkon.tistory.com/127)\n",
        "\n"
      ]
    },
    {
      "cell_type": "markdown",
      "metadata": {
        "id": "d-zfFXLCy6jD",
        "colab_type": "text"
      },
      "source": [
        "## 2. 딥러닝 강의 클론 코딩\n",
        "\n",
        "####__퍼셉트론 구조 구현하기__ \n",
        "딥러닝 강의(__딥러닝 원리[1] 3:15 ~ 5:15 부분__)를 보고 코드를 따라 치며 출력 결과를 만드세요.\n",
        " \n",
        "\n",
        "* 하나의 코드셀에 해당 코드를 한번에 다 적어서 실행해주세요 (__그렇게 하지 않을 경우, 아래 이미지와 같은 출력값이 나오지 않을 수 있습니다__)\n",
        "\n",
        "*__주의!__ 실제로 코딩해서 출력해보면 강의에 나온 출력 결과와 다르게 나옵니다!!\n"
      ]
    },
    {
      "cell_type": "markdown",
      "metadata": {
        "id": "wcc5mzI9oZ7r",
        "colab_type": "text"
      },
      "source": [
        "![대체 텍스트](https://www.notion.so/image/https%3A%2F%2Fs3-us-west-2.amazonaws.com%2Fsecure.notion-static.com%2F0cceeed0-0235-4b0f-af88-0b8c377d5b4b%2F_2020-06-09__9.35.23.png?table=block&id=88fd8912-9356-49a4-9fda-a1a63fe96ea9&width=2870&cache=v2)"
      ]
    },
    {
      "cell_type": "code",
      "metadata": {
        "id": "tz0_HdINaAde",
        "colab_type": "code",
        "colab": {
          "base_uri": "https://localhost:8080/",
          "height": 223
        },
        "outputId": "26b97954-d401-4582-91eb-3b38bd667227"
      },
      "source": [
        "import tensorflow as tf\n",
        "tf.compat.v1.set_random_seed(2020)\n",
        "x = 1\n",
        "y = 0\n",
        "w = tf.random.normal([1],0,1)\n",
        "\n",
        "import math\n",
        "def sigmoid(x):\n",
        "  return 1/(1 + math.exp(-x))\n",
        "\n",
        "output = sigmoid(x*w)\n",
        "print(output)\n",
        "\n",
        "for i in range(1000):\n",
        "  output = sigmoid(x*w)\n",
        "  error = y - output\n",
        "  w = w + x * 0.1 * error\n",
        "\n",
        "  if i % 100 == 99:\n",
        "    print(\"학습 횟수:\",i, \"Error:\", error, \"예측 결과:\", output)\n",
        "\n"
      ],
      "execution_count": null,
      "outputs": [
        {
          "output_type": "stream",
          "text": [
            "0.47477188589261\n",
            "학습 횟수: 99 Error: -0.10010598284299604 예측 결과: 0.10010598284299604\n",
            "학습 횟수: 199 Error: -0.05178399422833116 예측 결과: 0.05178399422833116\n",
            "학습 횟수: 299 Error: -0.034590451977903586 예측 결과: 0.034590451977903586\n",
            "학습 횟수: 399 Error: -0.02588962752851373 예측 결과: 0.02588962752851373\n",
            "학습 횟수: 499 Error: -0.020658699939863617 예측 결과: 0.020658699939863617\n",
            "학습 횟수: 599 Error: -0.017174253993457355 예측 결과: 0.017174253993457355\n",
            "학습 횟수: 699 Error: -0.014689506449480992 예측 결과: 0.014689506449480992\n",
            "학습 횟수: 799 Error: -0.012829497265431342 예측 결과: 0.012829497265431342\n",
            "학습 횟수: 899 Error: -0.011385568271837804 예측 결과: 0.011385568271837804\n",
            "학습 횟수: 999 Error: -0.010232493309882492 예측 결과: 0.010232493309882492\n"
          ],
          "name": "stdout"
        }
      ]
    },
    {
      "cell_type": "markdown",
      "metadata": {
        "id": "kr0HVRk8fOom",
        "colab_type": "text"
      },
      "source": [
        "## 3. 딥러닝 순전파 & 역전파 계산\n",
        "\n",
        "딥러닝 강의(__딥러닝 원리[2] 0:55 ~ 4:32 부분__)에 나오는 순전파 & 역전파 계산에 대한 문제 입니다.\n",
        "\n",
        "해당 영상과 다음 이미지를 참고하여 다음 2가지 물음에 답하세요.\n",
        "\n",
        "\n",
        "(1) 학습률이 0.2 일 경우 출력층의 노드값\n",
        "\n",
        "(2) 학습률이 0.1과 0.2 중 기대출력값이 지도데이터 \"3\"과 더 가까운 학습률은?"
      ]
    },
    {
      "cell_type": "markdown",
      "metadata": {
        "id": "CpwPFWhOUzww",
        "colab_type": "text"
      },
      "source": [
        "![대체 텍스트](https://www.notion.so/image/https%3A%2F%2Fs3-us-west-2.amazonaws.com%2Fsecure.notion-static.com%2Ff54dfd45-92ec-44ae-9616-6949d2484a45%2F_2020-06-10__5.22.03.png?table=block&id=ee05da89-3ceb-4ad9-a2d3-c9f68d24d1d9&width=3580&cache=v2)"
      ]
    },
    {
      "cell_type": "markdown",
      "metadata": {
        "id": "B2OVY7w5U3CI",
        "colab_type": "text"
      },
      "source": [
        "## (1) 학습률이 0.2 일 경우 출력층의 노드값 : 1.6\n",
        "## (2) 학습률이 0.1과 0.2 중 기대출력값이 지도데이터 \"3\"과 더 가까운 학습률은? : 0.1"
      ]
    },
    {
      "cell_type": "code",
      "metadata": {
        "id": "BgavfvqiWxBU",
        "colab_type": "code",
        "colab": {}
      },
      "source": [
        ""
      ],
      "execution_count": null,
      "outputs": []
    }
  ]
}